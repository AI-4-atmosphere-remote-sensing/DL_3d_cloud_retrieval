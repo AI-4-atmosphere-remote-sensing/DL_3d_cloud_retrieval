{
 "cells": [
  {
   "cell_type": "code",
   "execution_count": 1,
   "metadata": {},
   "outputs": [],
   "source": [
    "import matplotlib.pyplot as plt\n",
    "import numpy as np\n",
    "import h5py\n"
   ]
  },
  {
   "cell_type": "markdown",
   "metadata": {},
   "source": [
    "# Positive VZA represents forward, and negative represents backward\n",
    "                    index 0 corresponds to mu_VZA=0.5(i.e., VZA=60 degrees) \n",
    "                    index 1 corresponds to mu_VZA=0.6 (i.e., VZA=53.1 degrees)\n",
    "                    index 2 corresponds to mu_VZA=0.7 (i.e., VZA=45.5 degrees)\n",
    "                    index 3 corresponds to mu_VZA=0.8 (i.e., VZA=36.8 degrees)\n",
    "                    index 4 corresponds to mu_VZA=0.9 (i.e., VZA=25.8 degrees)\n",
    "                    index 5 corresponds to mu_VZA=1 (i.e., VZA=0 degrees)\n",
    "                    index 6 corresponds to mu_VZA=1 (i.e., VZA=-0 degrees)\n",
    "                    index 7 corresponds to mu_VZA=0.9 (i.e., VZA=-25.8 degrees)\n",
    "                    index 8 corresponds to mu_VZA=0.8 (i.e., VZA=-36.8 degrees)\n",
    "                    index 9 corresponds to mu_VZA=0.7 (i.e., VZA=-45.5 degrees)\n",
    "                    index 10 corresponds to mu_VZA=0.6 (i.e., VZA=-53.1 degrees)\n",
    "                    index 11 corresponds to mu_VZA=0.5 (i.e., VZA=-60 degrees)"
   ]
  },
  {
   "cell_type": "markdown",
   "metadata": {},
   "source": [
    "# The geometry consists of Number of solar zenith angles(SZA)=6\n",
    "       index 0 corresponds to the first SZA=0\n",
    "       index 1 corresponds to the first SZA=25.8\n",
    "       index 2 corresponds to the first SZA=36.8\n",
    "       index 3 corresponds to the first SZA=45.6\n",
    "       index 4 corresponds to the first SZA=53.1\n",
    "       index 5 corresponds to the first SZA=60.0"
   ]
  },
  {
   "cell_type": "markdown",
   "metadata": {},
   "source": [
    "# Dataset Version 1 reconstruct\n"
   ]
  },
  {
   "cell_type": "code",
   "execution_count": 1,
   "metadata": {},
   "outputs": [],
   "source": [
    "import numpy as np\n",
    "import h5py"
   ]
  },
  {
   "cell_type": "code",
   "execution_count": 2,
   "metadata": {},
   "outputs": [],
   "source": [
    "fname1= \"D:\\\\code\\\\Fiona\\\\climate project\\\\New Data\\\\profiles/profile_00001.hdf5\"\n",
    "hf = h5py.File(fname1, 'r')\n",
    "r=hf.get('reflectance')"
   ]
  },
  {
   "cell_type": "code",
   "execution_count": 3,
   "metadata": {},
   "outputs": [
    {
     "data": {
      "text/plain": [
       "(12, 6, 4096)"
      ]
     },
     "execution_count": 3,
     "metadata": {},
     "output_type": "execute_result"
    }
   ],
   "source": [
    "r.shape"
   ]
  },
  {
   "cell_type": "code",
   "execution_count": 4,
   "metadata": {},
   "outputs": [],
   "source": [
    "r_data = np.empty((4000,4096,6,12), dtype=float) # entire reflectance dataset\n",
    "cot_data=np.empty((4000,4096),dtype=float) #entire cot dataset\n",
    "for i in range(0,4000):#4000\n",
    "    for a in range(6):#6\n",
    "        for b in range(12):#12\n",
    "            fname = \"D:\\\\code\\\\Fiona\\\\climate project\\\\New Data\\\\profiles/profile_%05d.hdf5\"%(i+1)\n",
    "            hf = h5py.File(fname, 'r')\n",
    "            r_data[i,:,a,b] = np.array(hf.get(\"reflectance\"))[b,a,:]\n",
    "            cot=np.array(hf.get('tau'))\n",
    "            cot_data[i,:]=cot\n",
    "            hf.close()"
   ]
  },
  {
   "cell_type": "code",
   "execution_count": 5,
   "metadata": {},
   "outputs": [
    {
     "data": {
      "text/plain": [
       "(4000, 4096, 6, 12)"
      ]
     },
     "execution_count": 5,
     "metadata": {},
     "output_type": "execute_result"
    }
   ],
   "source": [
    "r_data.shape"
   ]
  },
  {
   "cell_type": "code",
   "execution_count": 18,
   "metadata": {},
   "outputs": [
    {
     "data": {
      "text/plain": [
       "(4000, 4096, 6, 12)"
      ]
     },
     "execution_count": 18,
     "metadata": {},
     "output_type": "execute_result"
    }
   ],
   "source": [
    "r_data.shape"
   ]
  },
  {
   "cell_type": "code",
   "execution_count": 6,
   "metadata": {},
   "outputs": [],
   "source": [
    "#use standard agnles\n",
    "r=r_data"
   ]
  },
  {
   "cell_type": "code",
   "execution_count": 7,
   "metadata": {},
   "outputs": [],
   "source": [
    "r_500m=np.empty((4000,82,6,12), dtype=float)\n",
    "\n",
    "for a in range(12):\n",
    "    for b in range(6):\n",
    "        for i in range(4000):\n",
    "            for j in range(82):#4096/500=81.92, round to 82\n",
    "                if (j+1)*50<4096:\n",
    "                    r_500m[i][j,b,a]=np.mean(r[i][j*50:(j+1)*50,b,a])\n",
    "                else:\n",
    "                    r_500m[i][j,b,a]=np.mean(r[i][j*50:,b,a])"
   ]
  },
  {
   "cell_type": "code",
   "execution_count": 15,
   "metadata": {},
   "outputs": [],
   "source": [
    "with open('all_angles_r.npy', 'wb') as f:\n",
    "    np.save(f,r_500m)"
   ]
  },
  {
   "cell_type": "markdown",
   "metadata": {},
   "source": [
    "# averaging to 500m resolution"
   ]
  },
  {
   "cell_type": "code",
   "execution_count": 10,
   "metadata": {},
   "outputs": [],
   "source": [
    "r_500m=np.empty((4000,82,6,12), dtype=float)\n",
    "\n",
    "for a in range \n",
    "for i in range(4000):\n",
    "    for j in range(82):#4096/500=81.92, round to 82\n",
    "        if (j+1)*50<4096:\n",
    "            r_500m[i][j]=np.mean(r[i][j*50:(j+1)*50])\n",
    "        else:\n",
    "            r_500m[i][j]=np.mean(r[i][j*50:])\n"
   ]
  },
  {
   "cell_type": "code",
   "execution_count": null,
   "metadata": {},
   "outputs": [],
   "source": []
  },
  {
   "cell_type": "code",
   "execution_count": null,
   "metadata": {},
   "outputs": [],
   "source": []
  },
  {
   "cell_type": "code",
   "execution_count": 16,
   "metadata": {},
   "outputs": [],
   "source": [
    "cot_500m=np.empty((4000,82), dtype=float)"
   ]
  },
  {
   "cell_type": "code",
   "execution_count": 17,
   "metadata": {},
   "outputs": [],
   "source": [
    "for i in range(4000):\n",
    "    for j in range(82):#4096/500=81.92, round to 82\n",
    "        if (j+1)*50<4096:\n",
    "            cot_500m[i][j]=np.mean(cot_data[i][j*50:(j+1)*50])\n",
    "        else:\n",
    "            cot_500m[i][j]=np.mean(cot_data[i][j*50:])\n"
   ]
  },
  {
   "cell_type": "code",
   "execution_count": 13,
   "metadata": {},
   "outputs": [
    {
     "data": {
      "text/plain": [
       "(4000, 82)"
      ]
     },
     "execution_count": 13,
     "metadata": {},
     "output_type": "execute_result"
    }
   ],
   "source": [
    "cot_500m.shape"
   ]
  },
  {
   "cell_type": "code",
   "execution_count": null,
   "metadata": {},
   "outputs": [],
   "source": []
  },
  {
   "cell_type": "markdown",
   "metadata": {},
   "source": [
    "# reshape"
   ]
  },
  {
   "cell_type": "code",
   "execution_count": 14,
   "metadata": {},
   "outputs": [
    {
     "data": {
      "text/plain": [
       "(4000, 82, 6, 12)"
      ]
     },
     "execution_count": 14,
     "metadata": {},
     "output_type": "execute_result"
    }
   ],
   "source": [
    "r=np.load('all_angles_r.npy')\n",
    "r.shape"
   ]
  },
  {
   "cell_type": "code",
   "execution_count": null,
   "metadata": {},
   "outputs": [],
   "source": []
  },
  {
   "cell_type": "code",
   "execution_count": null,
   "metadata": {},
   "outputs": [],
   "source": []
  },
  {
   "cell_type": "code",
   "execution_count": null,
   "metadata": {},
   "outputs": [],
   "source": []
  },
  {
   "cell_type": "code",
   "execution_count": null,
   "metadata": {},
   "outputs": [],
   "source": []
  },
  {
   "cell_type": "code",
   "execution_count": 15,
   "metadata": {},
   "outputs": [
    {
     "data": {
      "text/plain": [
       "(4, 2, 3)"
      ]
     },
     "execution_count": 15,
     "metadata": {},
     "output_type": "execute_result"
    }
   ],
   "source": [
    "import numpy as np\n",
    "a = np.array([[[1,1,1],[2,2,2]],[[3,3,3],[6,6,6]],[[5,5,5],[8,8,8]],[[4,4,4],[7,7,7]]])\n",
    "a.shape"
   ]
  },
  {
   "cell_type": "code",
   "execution_count": 17,
   "metadata": {},
   "outputs": [
    {
     "data": {
      "text/plain": [
       "array([[1, 1, 1, 2, 2, 2],\n",
       "       [3, 3, 3, 6, 6, 6],\n",
       "       [5, 5, 5, 8, 8, 8],\n",
       "       [4, 4, 4, 7, 7, 7]])"
      ]
     },
     "execution_count": 17,
     "metadata": {},
     "output_type": "execute_result"
    }
   ],
   "source": [
    "a.reshape(4,6)"
   ]
  },
  {
   "cell_type": "code",
   "execution_count": null,
   "metadata": {},
   "outputs": [],
   "source": []
  },
  {
   "cell_type": "code",
   "execution_count": null,
   "metadata": {},
   "outputs": [],
   "source": []
  },
  {
   "cell_type": "code",
   "execution_count": null,
   "metadata": {},
   "outputs": [],
   "source": []
  },
  {
   "cell_type": "code",
   "execution_count": null,
   "metadata": {},
   "outputs": [],
   "source": []
  },
  {
   "cell_type": "code",
   "execution_count": null,
   "metadata": {},
   "outputs": [],
   "source": []
  },
  {
   "cell_type": "code",
   "execution_count": null,
   "metadata": {},
   "outputs": [],
   "source": []
  }
 ],
 "metadata": {
  "kernelspec": {
   "display_name": "Python 3",
   "language": "python",
   "name": "python3"
  },
  "language_info": {
   "codemirror_mode": {
    "name": "ipython",
    "version": 3
   },
   "file_extension": ".py",
   "mimetype": "text/x-python",
   "name": "python",
   "nbconvert_exporter": "python",
   "pygments_lexer": "ipython3",
   "version": "3.8.4"
  }
 },
 "nbformat": 4,
 "nbformat_minor": 4
}
